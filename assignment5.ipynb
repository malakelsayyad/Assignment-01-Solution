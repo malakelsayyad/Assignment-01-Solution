{
  "cells": [
    {
      "cell_type": "markdown",
      "metadata": {
        "id": "view-in-github",
        "colab_type": "text"
      },
      "source": [
        "<a href=\"https://colab.research.google.com/github/malakelsayyad/Assignment-01-Solution/blob/master/assignment5.ipynb\" target=\"_parent\"><img src=\"https://colab.research.google.com/assets/colab-badge.svg\" alt=\"Open In Colab\"/></a>"
      ]
    },
    {
      "cell_type": "markdown",
      "metadata": {
        "id": "B0fCeJGbrsKf"
      },
      "source": [
        "# First script"
      ]
    },
    {
      "cell_type": "code",
      "execution_count": null,
      "metadata": {
        "execution": {
          "iopub.execute_input": "2025-03-14T14:29:56.800713Z",
          "iopub.status.busy": "2025-03-14T14:29:56.800405Z",
          "iopub.status.idle": "2025-03-14T14:30:18.054483Z",
          "shell.execute_reply": "2025-03-14T14:30:18.053580Z",
          "shell.execute_reply.started": "2025-03-14T14:29:56.800675Z"
        },
        "trusted": true,
        "id": "gz6YC6VgrsKh",
        "outputId": "e7819652-fc69-4a37-aff7-eb56cd4a470a"
      },
      "outputs": [
        {
          "name": "stdout",
          "output_type": "stream",
          "text": [
            "Requirement already satisfied: keras in /opt/conda/lib/python3.10/site-packages (3.0.5)\n",
            "Requirement already satisfied: absl-py in /opt/conda/lib/python3.10/site-packages (from keras) (1.4.0)\n",
            "Requirement already satisfied: numpy in /opt/conda/lib/python3.10/site-packages (from keras) (1.26.4)\n",
            "Requirement already satisfied: rich in /opt/conda/lib/python3.10/site-packages (from keras) (13.7.0)\n",
            "Requirement already satisfied: namex in /opt/conda/lib/python3.10/site-packages (from keras) (0.0.7)\n",
            "Requirement already satisfied: h5py in /opt/conda/lib/python3.10/site-packages (from keras) (3.10.0)\n",
            "Requirement already satisfied: dm-tree in /opt/conda/lib/python3.10/site-packages (from keras) (0.1.8)\n",
            "Requirement already satisfied: ml-dtypes in /opt/conda/lib/python3.10/site-packages (from keras) (0.2.0)\n",
            "Requirement already satisfied: markdown-it-py>=2.2.0 in /opt/conda/lib/python3.10/site-packages (from rich->keras) (3.0.0)\n",
            "Requirement already satisfied: pygments<3.0.0,>=2.13.0 in /opt/conda/lib/python3.10/site-packages (from rich->keras) (2.17.2)\n",
            "Requirement already satisfied: mdurl~=0.1 in /opt/conda/lib/python3.10/site-packages (from markdown-it-py>=2.2.0->rich->keras) (0.1.2)\n",
            "Requirement already satisfied: tensorflow in /opt/conda/lib/python3.10/site-packages (2.15.0)\n",
            "Requirement already satisfied: absl-py>=1.0.0 in /opt/conda/lib/python3.10/site-packages (from tensorflow) (1.4.0)\n",
            "Requirement already satisfied: astunparse>=1.6.0 in /opt/conda/lib/python3.10/site-packages (from tensorflow) (1.6.3)\n",
            "Requirement already satisfied: flatbuffers>=23.5.26 in /opt/conda/lib/python3.10/site-packages (from tensorflow) (23.5.26)\n",
            "Requirement already satisfied: gast!=0.5.0,!=0.5.1,!=0.5.2,>=0.2.1 in /opt/conda/lib/python3.10/site-packages (from tensorflow) (0.5.4)\n",
            "Requirement already satisfied: google-pasta>=0.1.1 in /opt/conda/lib/python3.10/site-packages (from tensorflow) (0.2.0)\n",
            "Requirement already satisfied: h5py>=2.9.0 in /opt/conda/lib/python3.10/site-packages (from tensorflow) (3.10.0)\n",
            "Requirement already satisfied: libclang>=13.0.0 in /opt/conda/lib/python3.10/site-packages (from tensorflow) (16.0.6)\n",
            "Requirement already satisfied: ml-dtypes~=0.2.0 in /opt/conda/lib/python3.10/site-packages (from tensorflow) (0.2.0)\n",
            "Requirement already satisfied: numpy<2.0.0,>=1.23.5 in /opt/conda/lib/python3.10/site-packages (from tensorflow) (1.26.4)\n",
            "Requirement already satisfied: opt-einsum>=2.3.2 in /opt/conda/lib/python3.10/site-packages (from tensorflow) (3.3.0)\n",
            "Requirement already satisfied: packaging in /opt/conda/lib/python3.10/site-packages (from tensorflow) (21.3)\n",
            "Requirement already satisfied: protobuf!=4.21.0,!=4.21.1,!=4.21.2,!=4.21.3,!=4.21.4,!=4.21.5,<5.0.0dev,>=3.20.3 in /opt/conda/lib/python3.10/site-packages (from tensorflow) (3.20.3)\n",
            "Requirement already satisfied: setuptools in /opt/conda/lib/python3.10/site-packages (from tensorflow) (69.0.3)\n",
            "Requirement already satisfied: six>=1.12.0 in /opt/conda/lib/python3.10/site-packages (from tensorflow) (1.16.0)\n",
            "Requirement already satisfied: termcolor>=1.1.0 in /opt/conda/lib/python3.10/site-packages (from tensorflow) (2.4.0)\n",
            "Requirement already satisfied: typing-extensions>=3.6.6 in /opt/conda/lib/python3.10/site-packages (from tensorflow) (4.9.0)\n",
            "Requirement already satisfied: wrapt<1.15,>=1.11.0 in /opt/conda/lib/python3.10/site-packages (from tensorflow) (1.14.1)\n",
            "Requirement already satisfied: tensorflow-io-gcs-filesystem>=0.23.1 in /opt/conda/lib/python3.10/site-packages (from tensorflow) (0.35.0)\n",
            "Requirement already satisfied: grpcio<2.0,>=1.24.3 in /opt/conda/lib/python3.10/site-packages (from tensorflow) (1.51.1)\n",
            "Requirement already satisfied: tensorboard<2.16,>=2.15 in /opt/conda/lib/python3.10/site-packages (from tensorflow) (2.15.1)\n",
            "Requirement already satisfied: tensorflow-estimator<2.16,>=2.15.0 in /opt/conda/lib/python3.10/site-packages (from tensorflow) (2.15.0)\n",
            "Collecting keras<2.16,>=2.15.0 (from tensorflow)\n",
            "  Downloading keras-2.15.0-py3-none-any.whl.metadata (2.4 kB)\n",
            "Requirement already satisfied: wheel<1.0,>=0.23.0 in /opt/conda/lib/python3.10/site-packages (from astunparse>=1.6.0->tensorflow) (0.42.0)\n",
            "Requirement already satisfied: google-auth<3,>=1.6.3 in /opt/conda/lib/python3.10/site-packages (from tensorboard<2.16,>=2.15->tensorflow) (2.26.1)\n",
            "Requirement already satisfied: google-auth-oauthlib<2,>=0.5 in /opt/conda/lib/python3.10/site-packages (from tensorboard<2.16,>=2.15->tensorflow) (1.2.0)\n",
            "Requirement already satisfied: markdown>=2.6.8 in /opt/conda/lib/python3.10/site-packages (from tensorboard<2.16,>=2.15->tensorflow) (3.5.2)\n",
            "Requirement already satisfied: requests<3,>=2.21.0 in /opt/conda/lib/python3.10/site-packages (from tensorboard<2.16,>=2.15->tensorflow) (2.31.0)\n",
            "Requirement already satisfied: tensorboard-data-server<0.8.0,>=0.7.0 in /opt/conda/lib/python3.10/site-packages (from tensorboard<2.16,>=2.15->tensorflow) (0.7.2)\n",
            "Requirement already satisfied: werkzeug>=1.0.1 in /opt/conda/lib/python3.10/site-packages (from tensorboard<2.16,>=2.15->tensorflow) (3.0.1)\n",
            "Requirement already satisfied: pyparsing!=3.0.5,>=2.0.2 in /opt/conda/lib/python3.10/site-packages (from packaging->tensorflow) (3.1.1)\n",
            "Requirement already satisfied: cachetools<6.0,>=2.0.0 in /opt/conda/lib/python3.10/site-packages (from google-auth<3,>=1.6.3->tensorboard<2.16,>=2.15->tensorflow) (4.2.4)\n",
            "Requirement already satisfied: pyasn1-modules>=0.2.1 in /opt/conda/lib/python3.10/site-packages (from google-auth<3,>=1.6.3->tensorboard<2.16,>=2.15->tensorflow) (0.3.0)\n",
            "Requirement already satisfied: rsa<5,>=3.1.4 in /opt/conda/lib/python3.10/site-packages (from google-auth<3,>=1.6.3->tensorboard<2.16,>=2.15->tensorflow) (4.9)\n",
            "Requirement already satisfied: requests-oauthlib>=0.7.0 in /opt/conda/lib/python3.10/site-packages (from google-auth-oauthlib<2,>=0.5->tensorboard<2.16,>=2.15->tensorflow) (1.3.1)\n",
            "Requirement already satisfied: charset-normalizer<4,>=2 in /opt/conda/lib/python3.10/site-packages (from requests<3,>=2.21.0->tensorboard<2.16,>=2.15->tensorflow) (3.3.2)\n",
            "Requirement already satisfied: idna<4,>=2.5 in /opt/conda/lib/python3.10/site-packages (from requests<3,>=2.21.0->tensorboard<2.16,>=2.15->tensorflow) (3.6)\n",
            "Requirement already satisfied: urllib3<3,>=1.21.1 in /opt/conda/lib/python3.10/site-packages (from requests<3,>=2.21.0->tensorboard<2.16,>=2.15->tensorflow) (1.26.18)\n",
            "Requirement already satisfied: certifi>=2017.4.17 in /opt/conda/lib/python3.10/site-packages (from requests<3,>=2.21.0->tensorboard<2.16,>=2.15->tensorflow) (2024.2.2)\n",
            "Requirement already satisfied: MarkupSafe>=2.1.1 in /opt/conda/lib/python3.10/site-packages (from werkzeug>=1.0.1->tensorboard<2.16,>=2.15->tensorflow) (2.1.3)\n",
            "Requirement already satisfied: pyasn1<0.6.0,>=0.4.6 in /opt/conda/lib/python3.10/site-packages (from pyasn1-modules>=0.2.1->google-auth<3,>=1.6.3->tensorboard<2.16,>=2.15->tensorflow) (0.5.1)\n",
            "Requirement already satisfied: oauthlib>=3.0.0 in /opt/conda/lib/python3.10/site-packages (from requests-oauthlib>=0.7.0->google-auth-oauthlib<2,>=0.5->tensorboard<2.16,>=2.15->tensorflow) (3.2.2)\n",
            "Downloading keras-2.15.0-py3-none-any.whl (1.7 MB)\n",
            "\u001b[2K   \u001b[90m━━━━━━━━━━━━━━━━━━━━━━━━━━━━━━━━━━━━━━━━\u001b[0m \u001b[32m1.7/1.7 MB\u001b[0m \u001b[31m28.6 MB/s\u001b[0m eta \u001b[36m0:00:00\u001b[0ma \u001b[36m0:00:01\u001b[0m\n",
            "\u001b[?25hInstalling collected packages: keras\n",
            "  Attempting uninstall: keras\n",
            "    Found existing installation: keras 3.0.5\n",
            "    Uninstalling keras-3.0.5:\n",
            "      Successfully uninstalled keras-3.0.5\n",
            "\u001b[31mERROR: pip's dependency resolver does not currently take into account all the packages that are installed. This behaviour is the source of the following dependency conflicts.\n",
            "tensorflow-decision-forests 1.8.1 requires wurlitzer, which is not installed.\u001b[0m\u001b[31m\n",
            "\u001b[0mSuccessfully installed keras-2.15.0\n"
          ]
        }
      ],
      "source": [
        "!pip install keras\n",
        "!pip install tensorflow"
      ]
    },
    {
      "cell_type": "code",
      "execution_count": null,
      "metadata": {
        "_cell_guid": "463f0f87-f96f-435c-8f40-d39dfef8dc36",
        "_uuid": "09df08cb0050aa8fd4b5b7bd6606b4d79b7a9d08",
        "execution": {
          "iopub.execute_input": "2025-03-14T14:30:18.057474Z",
          "iopub.status.busy": "2025-03-14T14:30:18.056762Z",
          "iopub.status.idle": "2025-03-14T14:30:29.657640Z",
          "shell.execute_reply": "2025-03-14T14:30:29.656918Z",
          "shell.execute_reply.started": "2025-03-14T14:30:18.057441Z"
        },
        "id": "u87RB0esHN27",
        "trusted": true,
        "outputId": "2983acb8-b3f3-4094-fa29-203646fe6ef8"
      },
      "outputs": [
        {
          "name": "stderr",
          "output_type": "stream",
          "text": [
            "2025-03-14 14:30:20.174926: E external/local_xla/xla/stream_executor/cuda/cuda_dnn.cc:9261] Unable to register cuDNN factory: Attempting to register factory for plugin cuDNN when one has already been registered\n",
            "2025-03-14 14:30:20.175046: E external/local_xla/xla/stream_executor/cuda/cuda_fft.cc:607] Unable to register cuFFT factory: Attempting to register factory for plugin cuFFT when one has already been registered\n",
            "2025-03-14 14:30:20.318866: E external/local_xla/xla/stream_executor/cuda/cuda_blas.cc:1515] Unable to register cuBLAS factory: Attempting to register factory for plugin cuBLAS when one has already been registered\n"
          ]
        }
      ],
      "source": [
        "import sys, os, re, csv, codecs, numpy as np, pandas as pd\n",
        "import matplotlib.pyplot as plt\n",
        "%matplotlib inline\n",
        "from keras.preprocessing.text import Tokenizer\n",
        "from keras.preprocessing.sequence import pad_sequences\n",
        "from keras.layers import Dense, Input, LSTM, Embedding, Dropout, Activation\n",
        "from keras.layers import Bidirectional, GlobalMaxPool1D\n",
        "from keras.models import Model\n",
        "from keras import initializers, regularizers, constraints, optimizers, layers"
      ]
    },
    {
      "cell_type": "markdown",
      "metadata": {
        "_cell_guid": "42634224-3ba5-41e3-8612-285cc8a8af16",
        "_uuid": "5e88facdabb090f8eaf48d014838e08cde63c455",
        "id": "v1MKs2jnHN28"
      },
      "source": [
        "Loading the train and test files, as usual"
      ]
    },
    {
      "cell_type": "code",
      "execution_count": null,
      "metadata": {
        "_cell_guid": "62c89f51-8315-4f50-97c9-de3539e884a9",
        "_uuid": "447247729764c3579a4a2d6bf69287abff0b9af1",
        "execution": {
          "iopub.execute_input": "2025-03-14T14:30:29.659317Z",
          "iopub.status.busy": "2025-03-14T14:30:29.658703Z",
          "iopub.status.idle": "2025-03-14T14:30:30.463088Z",
          "shell.execute_reply": "2025-03-14T14:30:30.462382Z",
          "shell.execute_reply.started": "2025-03-14T14:30:29.659287Z"
        },
        "id": "lmPSrLHiHN29",
        "trusted": true
      },
      "outputs": [],
      "source": [
        "train = pd.read_csv('/kaggle/input/multilabel-classification-dataset/train.csv')\n",
        "test = pd.read_csv('/kaggle/input/multilabel-classification-dataset/test.csv')"
      ]
    },
    {
      "cell_type": "code",
      "execution_count": null,
      "metadata": {
        "_cell_guid": "2b307015-414b-466e-9a80-72b9f1b61df8",
        "_uuid": "9a4a51116882f985fb362263a1346bf1883a3f04",
        "execution": {
          "iopub.execute_input": "2025-03-14T14:30:30.464298Z",
          "iopub.status.busy": "2025-03-14T14:30:30.464056Z",
          "iopub.status.idle": "2025-03-14T14:30:30.480188Z",
          "shell.execute_reply": "2025-03-14T14:30:30.479364Z",
          "shell.execute_reply.started": "2025-03-14T14:30:30.464277Z"
        },
        "id": "kwCIELbeHN29",
        "outputId": "d45191ee-5e43-48b8-9f00-b58262342c7f",
        "scrolled": true,
        "trusted": true
      },
      "outputs": [
        {
          "data": {
            "text/html": [
              "<div>\n",
              "<style scoped>\n",
              "    .dataframe tbody tr th:only-of-type {\n",
              "        vertical-align: middle;\n",
              "    }\n",
              "\n",
              "    .dataframe tbody tr th {\n",
              "        vertical-align: top;\n",
              "    }\n",
              "\n",
              "    .dataframe thead th {\n",
              "        text-align: right;\n",
              "    }\n",
              "</style>\n",
              "<table border=\"1\" class=\"dataframe\">\n",
              "  <thead>\n",
              "    <tr style=\"text-align: right;\">\n",
              "      <th></th>\n",
              "      <th>ID</th>\n",
              "      <th>TITLE</th>\n",
              "      <th>ABSTRACT</th>\n",
              "      <th>Computer Science</th>\n",
              "      <th>Physics</th>\n",
              "      <th>Mathematics</th>\n",
              "      <th>Statistics</th>\n",
              "      <th>Quantitative Biology</th>\n",
              "      <th>Quantitative Finance</th>\n",
              "    </tr>\n",
              "  </thead>\n",
              "  <tbody>\n",
              "    <tr>\n",
              "      <th>0</th>\n",
              "      <td>1</td>\n",
              "      <td>Reconstructing Subject-Specific Effect Maps</td>\n",
              "      <td>Predictive models allow subject-specific inf...</td>\n",
              "      <td>1</td>\n",
              "      <td>0</td>\n",
              "      <td>0</td>\n",
              "      <td>0</td>\n",
              "      <td>0</td>\n",
              "      <td>0</td>\n",
              "    </tr>\n",
              "    <tr>\n",
              "      <th>1</th>\n",
              "      <td>2</td>\n",
              "      <td>Rotation Invariance Neural Network</td>\n",
              "      <td>Rotation invariance and translation invarian...</td>\n",
              "      <td>1</td>\n",
              "      <td>0</td>\n",
              "      <td>0</td>\n",
              "      <td>0</td>\n",
              "      <td>0</td>\n",
              "      <td>0</td>\n",
              "    </tr>\n",
              "    <tr>\n",
              "      <th>2</th>\n",
              "      <td>3</td>\n",
              "      <td>Spherical polyharmonics and Poisson kernels fo...</td>\n",
              "      <td>We introduce and develop the notion of spher...</td>\n",
              "      <td>0</td>\n",
              "      <td>0</td>\n",
              "      <td>1</td>\n",
              "      <td>0</td>\n",
              "      <td>0</td>\n",
              "      <td>0</td>\n",
              "    </tr>\n",
              "    <tr>\n",
              "      <th>3</th>\n",
              "      <td>4</td>\n",
              "      <td>A finite element approximation for the stochas...</td>\n",
              "      <td>The stochastic Landau--Lifshitz--Gilbert (LL...</td>\n",
              "      <td>0</td>\n",
              "      <td>0</td>\n",
              "      <td>1</td>\n",
              "      <td>0</td>\n",
              "      <td>0</td>\n",
              "      <td>0</td>\n",
              "    </tr>\n",
              "    <tr>\n",
              "      <th>4</th>\n",
              "      <td>5</td>\n",
              "      <td>Comparative study of Discrete Wavelet Transfor...</td>\n",
              "      <td>Fourier-transform infra-red (FTIR) spectra o...</td>\n",
              "      <td>1</td>\n",
              "      <td>0</td>\n",
              "      <td>0</td>\n",
              "      <td>1</td>\n",
              "      <td>0</td>\n",
              "      <td>0</td>\n",
              "    </tr>\n",
              "  </tbody>\n",
              "</table>\n",
              "</div>"
            ],
            "text/plain": [
              "   ID                                              TITLE  \\\n",
              "0   1        Reconstructing Subject-Specific Effect Maps   \n",
              "1   2                 Rotation Invariance Neural Network   \n",
              "2   3  Spherical polyharmonics and Poisson kernels fo...   \n",
              "3   4  A finite element approximation for the stochas...   \n",
              "4   5  Comparative study of Discrete Wavelet Transfor...   \n",
              "\n",
              "                                            ABSTRACT  Computer Science  \\\n",
              "0    Predictive models allow subject-specific inf...                 1   \n",
              "1    Rotation invariance and translation invarian...                 1   \n",
              "2    We introduce and develop the notion of spher...                 0   \n",
              "3    The stochastic Landau--Lifshitz--Gilbert (LL...                 0   \n",
              "4    Fourier-transform infra-red (FTIR) spectra o...                 1   \n",
              "\n",
              "   Physics  Mathematics  Statistics  Quantitative Biology  \\\n",
              "0        0            0           0                     0   \n",
              "1        0            0           0                     0   \n",
              "2        0            1           0                     0   \n",
              "3        0            1           0                     0   \n",
              "4        0            0           1                     0   \n",
              "\n",
              "   Quantitative Finance  \n",
              "0                     0  \n",
              "1                     0  \n",
              "2                     0  \n",
              "3                     0  \n",
              "4                     0  "
            ]
          },
          "execution_count": 4,
          "metadata": {},
          "output_type": "execute_result"
        }
      ],
      "source": [
        "train.head()"
      ]
    },
    {
      "cell_type": "code",
      "execution_count": null,
      "metadata": {
        "execution": {
          "iopub.execute_input": "2025-03-14T14:30:30.482610Z",
          "iopub.status.busy": "2025-03-14T14:30:30.482356Z",
          "iopub.status.idle": "2025-03-14T14:30:30.527601Z",
          "shell.execute_reply": "2025-03-14T14:30:30.526702Z",
          "shell.execute_reply.started": "2025-03-14T14:30:30.482591Z"
        },
        "id": "42YopS3qIiF_",
        "trusted": true
      },
      "outputs": [],
      "source": [
        "train[\"text\"] = train['TITLE']+train['ABSTRACT']\n",
        "test[\"text\"] = test['TITLE']+test['ABSTRACT']"
      ]
    },
    {
      "cell_type": "code",
      "execution_count": null,
      "metadata": {
        "_cell_guid": "4bf0415e-6dcc-40c1-8d04-96b1ac95eb27",
        "_uuid": "548389f5096016fcb405fc73d5c21390d6c72d83",
        "execution": {
          "iopub.execute_input": "2025-03-14T14:30:30.529059Z",
          "iopub.status.busy": "2025-03-14T14:30:30.528752Z",
          "iopub.status.idle": "2025-03-14T14:30:30.539345Z",
          "shell.execute_reply": "2025-03-14T14:30:30.538431Z",
          "shell.execute_reply.started": "2025-03-14T14:30:30.529032Z"
        },
        "id": "5gRoAlHsHN2-",
        "trusted": true
      },
      "outputs": [],
      "source": [
        "list_classes = [\"Computer Science\", \"Physics\", \"Mathematics\", \"Statistics\", \"Quantitative Biology\", \"Quantitative Finance\"]\n",
        "y = train[list_classes].values\n",
        "list_sentences_train = train[\"text\"]\n",
        "list_sentences_test = test[\"text\"]"
      ]
    },
    {
      "cell_type": "code",
      "execution_count": null,
      "metadata": {
        "_cell_guid": "0d373763-f5c6-4d28-a1d7-f5030d47320f",
        "_uuid": "8d814a2dadca32a8810dca02c7d10dff38a84660",
        "execution": {
          "iopub.execute_input": "2025-03-14T14:30:30.540666Z",
          "iopub.status.busy": "2025-03-14T14:30:30.540441Z",
          "iopub.status.idle": "2025-03-14T14:30:35.044173Z",
          "shell.execute_reply": "2025-03-14T14:30:35.043372Z",
          "shell.execute_reply.started": "2025-03-14T14:30:30.540648Z"
        },
        "id": "PbO1F08SHN2-",
        "trusted": true
      },
      "outputs": [],
      "source": [
        "max_features = 20000\n",
        "tokenizer = Tokenizer(num_words=max_features)\n",
        "tokenizer.fit_on_texts(list(list_sentences_train))\n",
        "list_tokenized_train = tokenizer.texts_to_sequences(list_sentences_train)\n",
        "list_tokenized_test = tokenizer.texts_to_sequences(list_sentences_test)"
      ]
    },
    {
      "cell_type": "code",
      "execution_count": null,
      "metadata": {
        "_cell_guid": "c24422b6-f4a5-4c90-9e1f-3492d5790036",
        "_uuid": "252b3a9ac2fd63901b7d6cbd78033230e000198c",
        "execution": {
          "iopub.execute_input": "2025-03-14T14:30:35.045500Z",
          "iopub.status.busy": "2025-03-14T14:30:35.045231Z",
          "iopub.status.idle": "2025-03-14T14:30:35.055165Z",
          "shell.execute_reply": "2025-03-14T14:30:35.054303Z",
          "shell.execute_reply.started": "2025-03-14T14:30:35.045479Z"
        },
        "id": "VuEpQf_SHN2_",
        "outputId": "15998c49-2ea0-4c38-90eb-a070ec00e1dd",
        "scrolled": true,
        "trusted": true
      },
      "outputs": [
        {
          "data": {
            "text/plain": [
              "[[4599,\n",
              "  1224,\n",
              "  344,\n",
              "  228,\n",
              "  730,\n",
              "  1065,\n",
              "  45,\n",
              "  877,\n",
              "  1224,\n",
              "  344,\n",
              "  300,\n",
              "  72,\n",
              "  1411,\n",
              "  1585,\n",
              "  311,\n",
              "  8625,\n",
              "  5,\n",
              "  5026,\n",
              "  21,\n",
              "  129,\n",
              "  3,\n",
              "  11952,\n",
              "  21,\n",
              "  300,\n",
              "  22,\n",
              "  19,\n",
              "  839,\n",
              "  26,\n",
              "  36,\n",
              "  900,\n",
              "  356,\n",
              "  83,\n",
              "  98,\n",
              "  538,\n",
              "  517,\n",
              "  8,\n",
              "  1,\n",
              "  1224,\n",
              "  4,\n",
              "  160,\n",
              "  83,\n",
              "  98,\n",
              "  1326,\n",
              "  538,\n",
              "  228,\n",
              "  12,\n",
              "  113,\n",
              "  568,\n",
              "  756,\n",
              "  1779,\n",
              "  18,\n",
              "  1,\n",
              "  11952,\n",
              "  21,\n",
              "  124,\n",
              "  356,\n",
              "  300,\n",
              "  9,\n",
              "  816,\n",
              "  65,\n",
              "  160,\n",
              "  300,\n",
              "  20,\n",
              "  22,\n",
              "  19,\n",
              "  65,\n",
              "  6,\n",
              "  229,\n",
              "  1224,\n",
              "  344,\n",
              "  228,\n",
              "  730,\n",
              "  9,\n",
              "  3866,\n",
              "  65,\n",
              "  578,\n",
              "  206,\n",
              "  45,\n",
              "  338,\n",
              "  1480,\n",
              "  1128,\n",
              "  4513,\n",
              "  2168,\n",
              "  2,\n",
              "  8035,\n",
              "  2268,\n",
              "  6808,\n",
              "  5,\n",
              "  13,\n",
              "  703,\n",
              "  7,\n",
              "  87,\n",
              "  3,\n",
              "  826,\n",
              "  40,\n",
              "  2175,\n",
              "  13191,\n",
              "  6,\n",
              "  415,\n",
              "  1224,\n",
              "  344,\n",
              "  4513,\n",
              "  2,\n",
              "  1065,\n",
              "  346,\n",
              "  225,\n",
              "  4,\n",
              "  5,\n",
              "  181,\n",
              "  590,\n",
              "  1347,\n",
              "  13191,\n",
              "  709,\n",
              "  1427,\n",
              "  6,\n",
              "  751,\n",
              "  261,\n",
              "  192,\n",
              "  6,\n",
              "  371,\n",
              "  238,\n",
              "  294,\n",
              "  11,\n",
              "  28,\n",
              "  3,\n",
              "  155,\n",
              "  235,\n",
              "  2,\n",
              "  306,\n",
              "  6,\n",
              "  965,\n",
              "  1347,\n",
              "  1,\n",
              "  63,\n",
              "  40,\n",
              "  9,\n",
              "  3,\n",
              "  14004,\n",
              "  152,\n",
              "  54,\n",
              "  10,\n",
              "  22,\n",
              "  19,\n",
              "  65,\n",
              "  11,\n",
              "  69,\n",
              "  590,\n",
              "  1347,\n",
              "  5,\n",
              "  3,\n",
              "  3607,\n",
              "  1404,\n",
              "  83,\n",
              "  98,\n",
              "  230,\n",
              "  85,\n",
              "  12,\n",
              "  538,\n",
              "  517,\n",
              "  826,\n",
              "  9,\n",
              "  2927,\n",
              "  16,\n",
              "  3,\n",
              "  454,\n",
              "  3,\n",
              "  5256,\n",
              "  42,\n",
              "  11,\n",
              "  3,\n",
              "  539,\n",
              "  23,\n",
              "  570,\n",
              "  151,\n",
              "  15,\n",
              "  1067,\n",
              "  18,\n",
              "  138,\n",
              "  21,\n",
              "  5,\n",
              "  3,\n",
              "  1003,\n",
              "  344,\n",
              "  2323,\n",
              "  264,\n",
              "  533,\n",
              "  9,\n",
              "  724,\n",
              "  12,\n",
              "  8848,\n",
              "  406,\n",
              "  21,\n",
              "  4,\n",
              "  21,\n",
              "  18,\n",
              "  1,\n",
              "  5257,\n",
              "  1585,\n",
              "  5026,\n",
              "  7709,\n",
              "  11481,\n",
              "  1501,\n",
              "  34,\n",
              "  12,\n",
              "  823,\n",
              "  21,\n",
              "  131,\n",
              "  10,\n",
              "  28,\n",
              "  13191,\n",
              "  1131,\n",
              "  336,\n",
              "  198,\n",
              "  209,\n",
              "  246,\n",
              "  6,\n",
              "  28,\n",
              "  45,\n",
              "  653,\n",
              "  37,\n",
              "  11,\n",
              "  2088,\n",
              "  2789,\n",
              "  1428,\n",
              "  12,\n",
              "  1,\n",
              "  11481,\n",
              "  351,\n",
              "  31,\n",
              "  10,\n",
              "  13191,\n",
              "  22,\n",
              "  41,\n",
              "  415,\n",
              "  506,\n",
              "  46,\n",
              "  1224,\n",
              "  344,\n",
              "  4513,\n",
              "  5,\n",
              "  5673,\n",
              "  2767,\n",
              "  21,\n",
              "  4,\n",
              "  66,\n",
              "  646,\n",
              "  6035,\n",
              "  2,\n",
              "  5257,\n",
              "  1585,\n",
              "  2067,\n",
              "  39,\n",
              "  16,\n",
              "  1,\n",
              "  3668,\n",
              "  4922,\n",
              "  67,\n",
              "  6401,\n",
              "  1439,\n",
              "  4,\n",
              "  1038,\n",
              "  9910,\n",
              "  832,\n",
              "  900,\n",
              "  243,\n",
              "  2034,\n",
              "  330,\n",
              "  12,\n",
              "  1,\n",
              "  2176,\n",
              "  11481,\n",
              "  351,\n",
              "  31,\n",
              "  1064,\n",
              "  12,\n",
              "  198,\n",
              "  2034,\n",
              "  72,\n",
              "  13191,\n",
              "  9,\n",
              "  65]]"
            ]
          },
          "execution_count": 8,
          "metadata": {},
          "output_type": "execute_result"
        }
      ],
      "source": [
        "list_tokenized_train[:1]"
      ]
    },
    {
      "cell_type": "code",
      "execution_count": null,
      "metadata": {
        "_cell_guid": "d5eca775-e326-421c-a90b-2fc69f14020e",
        "_uuid": "77cb38be6af621207460fa657df85bc70535a21c",
        "execution": {
          "iopub.execute_input": "2025-03-14T14:30:35.056957Z",
          "iopub.status.busy": "2025-03-14T14:30:35.056580Z",
          "iopub.status.idle": "2025-03-14T14:30:35.321383Z",
          "shell.execute_reply": "2025-03-14T14:30:35.320649Z",
          "shell.execute_reply.started": "2025-03-14T14:30:35.056926Z"
        },
        "id": "URji2yHVHN3A",
        "trusted": true
      },
      "outputs": [],
      "source": [
        "maxlen = 200\n",
        "X_t = pad_sequences(list_tokenized_train, maxlen=maxlen)\n",
        "X_te = pad_sequences(list_tokenized_test, maxlen=maxlen)"
      ]
    },
    {
      "cell_type": "code",
      "execution_count": null,
      "metadata": {
        "_cell_guid": "3c447319-2453-48ed-8e68-0c192c0873f6",
        "_uuid": "69fde7d5c0ff270393321d28298610e2d3a56634",
        "execution": {
          "iopub.execute_input": "2025-03-14T14:30:35.323116Z",
          "iopub.status.busy": "2025-03-14T14:30:35.322525Z",
          "iopub.status.idle": "2025-03-14T14:30:35.329518Z",
          "shell.execute_reply": "2025-03-14T14:30:35.328573Z",
          "shell.execute_reply.started": "2025-03-14T14:30:35.323086Z"
        },
        "id": "vXj3OmohHN3A",
        "trusted": true
      },
      "outputs": [],
      "source": [
        "totalNumWords = [len(one_comment) for one_comment in list_tokenized_train]"
      ]
    },
    {
      "cell_type": "code",
      "execution_count": null,
      "metadata": {
        "_cell_guid": "e522d821-136f-4b07-80f4-d1d9323f5ef4",
        "_uuid": "4116cf21a3a94d2b05017c9ae8f3b773317a71c0",
        "execution": {
          "iopub.execute_input": "2025-03-14T14:30:35.330772Z",
          "iopub.status.busy": "2025-03-14T14:30:35.330532Z",
          "iopub.status.idle": "2025-03-14T14:30:35.685971Z",
          "shell.execute_reply": "2025-03-14T14:30:35.685190Z",
          "shell.execute_reply.started": "2025-03-14T14:30:35.330754Z"
        },
        "id": "lsFVDDDwHN3A",
        "outputId": "7d8d187a-1f51-485a-8c2b-4d05c4c4a52b",
        "trusted": true
      },
      "outputs": [
        {
          "data": {
            "image/png": "[encoded data removed]",
            "text/plain": [
              "<Figure size 640x480 with 1 Axes>"
            ]
          },
          "metadata": {},
          "output_type": "display_data"
        }
      ],
      "source": [
        "plt.hist(totalNumWords,bins = np.arange(0,410,10))#[0,50,100,150,200,250,300,350,400])#,450,500,550,600,650,700,750,800,850,900])\n",
        "plt.show()"
      ]
    },
    {
      "cell_type": "code",
      "execution_count": null,
      "metadata": {
        "_cell_guid": "f833649b-7a62-4480-9ee9-193128eefb9b",
        "_uuid": "a8578e2b581989b196b3f8296995c3241f32f1d5",
        "execution": {
          "iopub.execute_input": "2025-03-14T14:30:35.687596Z",
          "iopub.status.busy": "2025-03-14T14:30:35.687227Z",
          "iopub.status.idle": "2025-03-14T14:30:35.701865Z",
          "shell.execute_reply": "2025-03-14T14:30:35.700888Z",
          "shell.execute_reply.started": "2025-03-14T14:30:35.687563Z"
        },
        "id": "2dI1KDVvHN3B",
        "trusted": true
      },
      "outputs": [],
      "source": [
        "inp = Input(shape=(maxlen, )) #maxlen=200 as defined earlier"
      ]
    },
    {
      "cell_type": "code",
      "execution_count": null,
      "metadata": {
        "_cell_guid": "23281f14-130c-41d3-98cc-49283ff27177",
        "_uuid": "9bfea70ef8209f178c9974c61bef16e7ab1bf020",
        "execution": {
          "iopub.execute_input": "2025-03-14T14:30:35.703181Z",
          "iopub.status.busy": "2025-03-14T14:30:35.702937Z",
          "iopub.status.idle": "2025-03-14T14:30:36.578913Z",
          "shell.execute_reply": "2025-03-14T14:30:36.578223Z",
          "shell.execute_reply.started": "2025-03-14T14:30:35.703161Z"
        },
        "id": "7YVcGbvdHN3B",
        "trusted": true
      },
      "outputs": [],
      "source": [
        "embed_size = 128\n",
        "x = Embedding(max_features, embed_size)(inp)"
      ]
    },
    {
      "cell_type": "code",
      "execution_count": null,
      "metadata": {
        "_cell_guid": "47c448cf-773d-47c8-a006-b761b0fabbf1",
        "_uuid": "9e4dd0350f3d779a7c05f04dbc3406e779b72f17",
        "execution": {
          "iopub.execute_input": "2025-03-14T14:30:36.582226Z",
          "iopub.status.busy": "2025-03-14T14:30:36.581974Z",
          "iopub.status.idle": "2025-03-14T14:30:37.280525Z",
          "shell.execute_reply": "2025-03-14T14:30:37.279761Z",
          "shell.execute_reply.started": "2025-03-14T14:30:36.582206Z"
        },
        "id": "BHHJZiv0HN3G",
        "trusted": true
      },
      "outputs": [],
      "source": [
        "x = LSTM(60, return_sequences=True,name='lstm_layer')(x)"
      ]
    },
    {
      "cell_type": "code",
      "execution_count": null,
      "metadata": {
        "_cell_guid": "9a0fed7f-cbc5-4591-a6b2-30a75090aed2",
        "_uuid": "e5539d8b185f15a420e9c3f1c800960ce07c1002",
        "execution": {
          "iopub.execute_input": "2025-03-14T14:30:37.282104Z",
          "iopub.status.busy": "2025-03-14T14:30:37.281802Z",
          "iopub.status.idle": "2025-03-14T14:30:37.290487Z",
          "shell.execute_reply": "2025-03-14T14:30:37.289573Z",
          "shell.execute_reply.started": "2025-03-14T14:30:37.282081Z"
        },
        "id": "Z1PkxHnVHN3G",
        "trusted": true
      },
      "outputs": [],
      "source": [
        "x = GlobalMaxPool1D()(x)"
      ]
    },
    {
      "cell_type": "code",
      "execution_count": null,
      "metadata": {
        "_cell_guid": "d6bb28c9-3af8-4808-8316-eb3386ca0b93",
        "_uuid": "85493c90e9358fc3164b9c01904adc6caf531d7d",
        "execution": {
          "iopub.execute_input": "2025-03-14T14:30:37.291782Z",
          "iopub.status.busy": "2025-03-14T14:30:37.291556Z",
          "iopub.status.idle": "2025-03-14T14:30:37.305537Z",
          "shell.execute_reply": "2025-03-14T14:30:37.304657Z",
          "shell.execute_reply.started": "2025-03-14T14:30:37.291764Z"
        },
        "id": "F5nG47tZHN3H",
        "trusted": true
      },
      "outputs": [],
      "source": [
        "x = Dropout(0.1)(x)"
      ]
    },
    {
      "cell_type": "code",
      "execution_count": null,
      "metadata": {
        "_cell_guid": "60c40b04-ccaa-4fa2-836f-18260e1379f9",
        "_uuid": "84773a29b736311fd19fa96a398f65867aa20118",
        "execution": {
          "iopub.execute_input": "2025-03-14T14:30:37.307467Z",
          "iopub.status.busy": "2025-03-14T14:30:37.306850Z",
          "iopub.status.idle": "2025-03-14T14:30:37.328948Z",
          "shell.execute_reply": "2025-03-14T14:30:37.328303Z",
          "shell.execute_reply.started": "2025-03-14T14:30:37.307439Z"
        },
        "id": "WmT8w_PAHN3H",
        "trusted": true
      },
      "outputs": [],
      "source": [
        "x = Dense(50, activation=\"relu\")(x)"
      ]
    },
    {
      "cell_type": "code",
      "execution_count": null,
      "metadata": {
        "_cell_guid": "8eb0af99-79ad-4900-a74d-b9976b3523d5",
        "_uuid": "ff7942a49a599810574a75201b7e5c8a046c8733",
        "execution": {
          "iopub.execute_input": "2025-03-14T14:30:37.330224Z",
          "iopub.status.busy": "2025-03-14T14:30:37.329928Z",
          "iopub.status.idle": "2025-03-14T14:30:37.337375Z",
          "shell.execute_reply": "2025-03-14T14:30:37.336553Z",
          "shell.execute_reply.started": "2025-03-14T14:30:37.330197Z"
        },
        "id": "QAzT4fmAHN3H",
        "trusted": true
      },
      "outputs": [],
      "source": [
        "x = Dropout(0.1)(x)"
      ]
    },
    {
      "cell_type": "code",
      "execution_count": null,
      "metadata": {
        "_cell_guid": "22243974-cce1-4556-b2a2-8cfe97bce70f",
        "_uuid": "9cea3bbfb39ca0d01bf7c5ebfd0e48f4f998a8e7",
        "execution": {
          "iopub.execute_input": "2025-03-14T14:30:37.339139Z",
          "iopub.status.busy": "2025-03-14T14:30:37.338502Z",
          "iopub.status.idle": "2025-03-14T14:30:37.359730Z",
          "shell.execute_reply": "2025-03-14T14:30:37.359065Z",
          "shell.execute_reply.started": "2025-03-14T14:30:37.339111Z"
        },
        "id": "U_VyNqG-HN3I",
        "trusted": true
      },
      "outputs": [],
      "source": [
        "x = Dense(6, activation=\"sigmoid\")(x)"
      ]
    },
    {
      "cell_type": "code",
      "execution_count": null,
      "metadata": {
        "_cell_guid": "8e1fc640-385d-40be-b32c-5703c2635a78",
        "_uuid": "d152b94cc890b512ba6afd9b2fdb0a14c8ea76b4",
        "execution": {
          "iopub.execute_input": "2025-03-14T14:30:37.361023Z",
          "iopub.status.busy": "2025-03-14T14:30:37.360781Z",
          "iopub.status.idle": "2025-03-14T14:30:37.392432Z",
          "shell.execute_reply": "2025-03-14T14:30:37.391742Z",
          "shell.execute_reply.started": "2025-03-14T14:30:37.361003Z"
        },
        "id": "MxRgWSoXHN3I",
        "trusted": true
      },
      "outputs": [],
      "source": [
        "model = Model(inputs=inp, outputs=x)\n",
        "model.compile(loss='binary_crossentropy',\n",
        "                  optimizer='adam',\n",
        "                  metrics=['accuracy'])"
      ]
    },
    {
      "cell_type": "code",
      "execution_count": null,
      "metadata": {
        "_cell_guid": "8ae6cadb-0543-4fee-9dba-1eb99987c441",
        "_uuid": "1c26824601d297f618bea32e1e08c3af799fc5a4",
        "execution": {
          "iopub.execute_input": "2025-03-14T14:30:37.394169Z",
          "iopub.status.busy": "2025-03-14T14:30:37.393580Z",
          "iopub.status.idle": "2025-03-14T14:31:56.205750Z",
          "shell.execute_reply": "2025-03-14T14:31:56.204878Z",
          "shell.execute_reply.started": "2025-03-14T14:30:37.394139Z"
        },
        "id": "WkXFzUymHN3I",
        "outputId": "9b53a661-b94f-4b9f-cdf2-032ad1cdddc1",
        "trusted": true
      },
      "outputs": [
        {
          "name": "stdout",
          "output_type": "stream",
          "text": [
            "Epoch 1/6\n"
          ]
        },
        {
          "name": "stderr",
          "output_type": "stream",
          "text": [
            "WARNING: All log messages before absl::InitializeLog() is called are written to STDERR\n",
            "I0000 00:00:1741962641.107785     113 device_compiler.h:186] Compiled cluster using XLA!  This line is logged at most once for the lifetime of the process.\n"
          ]
        },
        {
          "name": "stdout",
          "output_type": "stream",
          "text": [
            "525/525 [==============================] - 33s 55ms/step - loss: 0.3590 - accuracy: 0.5882 - val_loss: 0.2523 - val_accuracy: 0.7673\n",
            "Epoch 2/6\n",
            "525/525 [==============================] - 12s 22ms/step - loss: 0.2248 - accuracy: 0.7729 - val_loss: 0.2140 - val_accuracy: 0.7423\n",
            "Epoch 3/6\n",
            "525/525 [==============================] - 10s 18ms/step - loss: 0.1682 - accuracy: 0.7853 - val_loss: 0.2020 - val_accuracy: 0.7650\n",
            "Epoch 4/6\n",
            "525/525 [==============================] - 9s 16ms/step - loss: 0.1335 - accuracy: 0.8046 - val_loss: 0.2131 - val_accuracy: 0.7523\n",
            "Epoch 5/6\n",
            "525/525 [==============================] - 8s 15ms/step - loss: 0.1059 - accuracy: 0.8287 - val_loss: 0.2300 - val_accuracy: 0.7528\n",
            "Epoch 6/6\n",
            "525/525 [==============================] - 8s 15ms/step - loss: 0.0856 - accuracy: 0.8381 - val_loss: 0.2641 - val_accuracy: 0.7456\n"
          ]
        },
        {
          "data": {
            "text/plain": [
              "<keras.src.callbacks.History at 0x7f08fa59ebf0>"
            ]
          },
          "execution_count": 21,
          "metadata": {},
          "output_type": "execute_result"
        }
      ],
      "source": [
        "batch_size = 32\n",
        "epochs = 6\n",
        "model.fit(X_t,y, batch_size=batch_size, epochs=epochs, validation_split=0.2)"
      ]
    },
    {
      "cell_type": "code",
      "execution_count": null,
      "metadata": {
        "_cell_guid": "0192471f-516d-4f3d-9ce0-784da0ca59ab",
        "_uuid": "5da468e7b497b736510f0521863bc696809e134b",
        "execution": {
          "iopub.execute_input": "2025-03-14T14:31:56.207075Z",
          "iopub.status.busy": "2025-03-14T14:31:56.206847Z",
          "iopub.status.idle": "2025-03-14T14:31:56.232209Z",
          "shell.execute_reply": "2025-03-14T14:31:56.231399Z",
          "shell.execute_reply.started": "2025-03-14T14:31:56.207057Z"
        },
        "id": "GQqBY3TKHN3J",
        "outputId": "fbe37cf4-3a51-4f41-f37a-e33e8e739f14",
        "trusted": true
      },
      "outputs": [
        {
          "name": "stdout",
          "output_type": "stream",
          "text": [
            "Model: \"model\"\n",
            "_________________________________________________________________\n",
            " Layer (type)                Output Shape              Param #   \n",
            "=================================================================\n",
            " input_1 (InputLayer)        [(None, 200)]             0         \n",
            "                                                                 \n",
            " embedding (Embedding)       (None, 200, 128)          2560000   \n",
            "                                                                 \n",
            " lstm_layer (LSTM)           (None, 200, 60)           45360     \n",
            "                                                                 \n",
            " global_max_pooling1d (Glob  (None, 60)                0         \n",
            " alMaxPooling1D)                                                 \n",
            "                                                                 \n",
            " dropout (Dropout)           (None, 60)                0         \n",
            "                                                                 \n",
            " dense (Dense)               (None, 50)                3050      \n",
            "                                                                 \n",
            " dropout_1 (Dropout)         (None, 50)                0         \n",
            "                                                                 \n",
            " dense_1 (Dense)             (None, 6)                 306       \n",
            "                                                                 \n",
            "=================================================================\n",
            "Total params: 2608716 (9.95 MB)\n",
            "Trainable params: 2608716 (9.95 MB)\n",
            "Non-trainable params: 0 (0.00 Byte)\n",
            "_________________________________________________________________\n"
          ]
        }
      ],
      "source": [
        "model.summary()"
      ]
    },
    {
      "cell_type": "markdown",
      "metadata": {
        "id": "ALx76zkGrsKl"
      },
      "source": [
        "# Second Script"
      ]
    },
    {
      "cell_type": "code",
      "execution_count": null,
      "metadata": {
        "execution": {
          "iopub.execute_input": "2025-03-14T14:31:56.233517Z",
          "iopub.status.busy": "2025-03-14T14:31:56.233271Z",
          "iopub.status.idle": "2025-03-14T14:31:56.237593Z",
          "shell.execute_reply": "2025-03-14T14:31:56.236647Z",
          "shell.execute_reply.started": "2025-03-14T14:31:56.233496Z"
        },
        "trusted": true,
        "id": "vGqHp_NtrsKm"
      },
      "outputs": [],
      "source": [
        "from keras.layers import GRU, SpatialDropout1D"
      ]
    },
    {
      "cell_type": "code",
      "execution_count": null,
      "metadata": {
        "execution": {
          "iopub.execute_input": "2025-03-14T14:31:56.239017Z",
          "iopub.status.busy": "2025-03-14T14:31:56.238656Z",
          "iopub.status.idle": "2025-03-14T14:31:56.261126Z",
          "shell.execute_reply": "2025-03-14T14:31:56.260408Z",
          "shell.execute_reply.started": "2025-03-14T14:31:56.238989Z"
        },
        "trusted": true,
        "id": "YsYgp6rBrsKm"
      },
      "outputs": [],
      "source": [
        "inp_gru = Input(shape=(maxlen, )) # maxlen = 200 as defined earlier\n",
        "embed_size = 128\n",
        "x_gru = Embedding(max_features, embed_size)(inp_gru)"
      ]
    },
    {
      "cell_type": "code",
      "execution_count": null,
      "metadata": {
        "execution": {
          "iopub.execute_input": "2025-03-14T14:31:56.262305Z",
          "iopub.status.busy": "2025-03-14T14:31:56.262020Z",
          "iopub.status.idle": "2025-03-14T14:31:56.269861Z",
          "shell.execute_reply": "2025-03-14T14:31:56.269159Z",
          "shell.execute_reply.started": "2025-03-14T14:31:56.262270Z"
        },
        "trusted": true,
        "id": "nJMrM8cgrsKm"
      },
      "outputs": [],
      "source": [
        "x_gru = SpatialDropout1D(0.2)(x_gru)"
      ]
    },
    {
      "cell_type": "code",
      "execution_count": null,
      "metadata": {
        "execution": {
          "iopub.execute_input": "2025-03-14T14:31:56.271032Z",
          "iopub.status.busy": "2025-03-14T14:31:56.270789Z",
          "iopub.status.idle": "2025-03-14T14:31:56.675556Z",
          "shell.execute_reply": "2025-03-14T14:31:56.674831Z",
          "shell.execute_reply.started": "2025-03-14T14:31:56.271013Z"
        },
        "trusted": true,
        "id": "xtyrNFR_rsKm"
      },
      "outputs": [],
      "source": [
        "x_gru = Bidirectional(GRU(64, return_sequences=True))(x_gru)\n",
        "x_gru = GlobalMaxPool1D()(x_gru)\n",
        "x_gru = Dropout(0.2)(x_gru)\n",
        "x_gru = Dense(64, activation=\"relu\")(x_gru)\n",
        "x_gru = Dropout(0.2)(x_gru)\n",
        "x_gru = Dense(6, activation=\"sigmoid\")(x_gru)"
      ]
    },
    {
      "cell_type": "code",
      "execution_count": null,
      "metadata": {
        "execution": {
          "iopub.execute_input": "2025-03-14T14:31:56.677027Z",
          "iopub.status.busy": "2025-03-14T14:31:56.676778Z",
          "iopub.status.idle": "2025-03-14T14:31:56.689886Z",
          "shell.execute_reply": "2025-03-14T14:31:56.688990Z",
          "shell.execute_reply.started": "2025-03-14T14:31:56.677006Z"
        },
        "trusted": true,
        "id": "GIVLYUDtrsKm"
      },
      "outputs": [],
      "source": [
        "model_gru = Model(inputs=inp_gru, outputs=x_gru)\n",
        "model_gru.compile(loss='binary_crossentropy',\n",
        "                  optimizer='adam',\n",
        "                  metrics=['accuracy'])"
      ]
    },
    {
      "cell_type": "code",
      "execution_count": null,
      "metadata": {
        "execution": {
          "iopub.execute_input": "2025-03-14T14:31:56.691579Z",
          "iopub.status.busy": "2025-03-14T14:31:56.691038Z",
          "iopub.status.idle": "2025-03-14T14:33:42.439001Z",
          "shell.execute_reply": "2025-03-14T14:33:42.438278Z",
          "shell.execute_reply.started": "2025-03-14T14:31:56.691548Z"
        },
        "trusted": true,
        "id": "lL8hdiuhrsKm",
        "outputId": "9d25935a-56a7-4362-b919-772e0c679f1c"
      },
      "outputs": [
        {
          "name": "stdout",
          "output_type": "stream",
          "text": [
            "Epoch 1/6\n",
            "525/525 [==============================] - 37s 63ms/step - loss: 0.3285 - accuracy: 0.6211 - val_loss: 0.2092 - val_accuracy: 0.7840\n",
            "Epoch 2/6\n",
            "525/525 [==============================] - 16s 31ms/step - loss: 0.1926 - accuracy: 0.7639 - val_loss: 0.1920 - val_accuracy: 0.7671\n",
            "Epoch 3/6\n",
            "525/525 [==============================] - 14s 27ms/step - loss: 0.1516 - accuracy: 0.7850 - val_loss: 0.2093 - val_accuracy: 0.7490\n",
            "Epoch 4/6\n",
            "525/525 [==============================] - 13s 26ms/step - loss: 0.1205 - accuracy: 0.8080 - val_loss: 0.2144 - val_accuracy: 0.7485\n",
            "Epoch 5/6\n",
            "525/525 [==============================] - 13s 24ms/step - loss: 0.0979 - accuracy: 0.8238 - val_loss: 0.2420 - val_accuracy: 0.7418\n",
            "Epoch 6/6\n",
            "525/525 [==============================] - 12s 23ms/step - loss: 0.0803 - accuracy: 0.8385 - val_loss: 0.2660 - val_accuracy: 0.7473\n"
          ]
        }
      ],
      "source": [
        "batch_size = 32\n",
        "epochs = 6\n",
        "history_gru = model_gru.fit(X_t, y, batch_size=batch_size, epochs=epochs, validation_split=0.2)"
      ]
    },
    {
      "cell_type": "code",
      "execution_count": null,
      "metadata": {
        "execution": {
          "iopub.execute_input": "2025-03-14T14:33:42.440363Z",
          "iopub.status.busy": "2025-03-14T14:33:42.440103Z",
          "iopub.status.idle": "2025-03-14T14:33:42.470378Z",
          "shell.execute_reply": "2025-03-14T14:33:42.469590Z",
          "shell.execute_reply.started": "2025-03-14T14:33:42.440343Z"
        },
        "trusted": true,
        "id": "1Gi3M69ErsKm",
        "outputId": "eb378a1b-78e3-4755-d98d-a775b07eda3f"
      },
      "outputs": [
        {
          "name": "stdout",
          "output_type": "stream",
          "text": [
            "Model: \"model_1\"\n",
            "_________________________________________________________________\n",
            " Layer (type)                Output Shape              Param #   \n",
            "=================================================================\n",
            " input_2 (InputLayer)        [(None, 200)]             0         \n",
            "                                                                 \n",
            " embedding_1 (Embedding)     (None, 200, 128)          2560000   \n",
            "                                                                 \n",
            " spatial_dropout1d (Spatial  (None, 200, 128)          0         \n",
            " Dropout1D)                                                      \n",
            "                                                                 \n",
            " bidirectional (Bidirection  (None, 200, 128)          74496     \n",
            " al)                                                             \n",
            "                                                                 \n",
            " global_max_pooling1d_1 (Gl  (None, 128)               0         \n",
            " obalMaxPooling1D)                                               \n",
            "                                                                 \n",
            " dropout_2 (Dropout)         (None, 128)               0         \n",
            "                                                                 \n",
            " dense_2 (Dense)             (None, 64)                8256      \n",
            "                                                                 \n",
            " dropout_3 (Dropout)         (None, 64)                0         \n",
            "                                                                 \n",
            " dense_3 (Dense)             (None, 6)                 390       \n",
            "                                                                 \n",
            "=================================================================\n",
            "Total params: 2643142 (10.08 MB)\n",
            "Trainable params: 2643142 (10.08 MB)\n",
            "Non-trainable params: 0 (0.00 Byte)\n",
            "_________________________________________________________________\n"
          ]
        }
      ],
      "source": [
        "model_gru.summary()"
      ]
    }
  ],
  "metadata": {
    "colab": {
      "provenance": [],
      "include_colab_link": true
    },
    "kaggle": {
      "accelerator": "gpu",
      "dataSources": [
        {
          "datasetId": 1123189,
          "sourceId": 1885658,
          "sourceType": "datasetVersion"
        }
      ],
      "dockerImageVersionId": 30665,
      "isGpuEnabled": true,
      "isInternetEnabled": true,
      "language": "python",
      "sourceType": "notebook"
    },
    "kernelspec": {
      "display_name": "Python 3",
      "language": "python",
      "name": "python3"
    },
    "language_info": {
      "codemirror_mode": {
        "name": "ipython",
        "version": 3
      },
      "file_extension": ".py",
      "mimetype": "text/x-python",
      "name": "python",
      "nbconvert_exporter": "python",
      "pygments_lexer": "ipython3",
      "version": "3.10.13"
    }
  },
  "nbformat": 4,
  "nbformat_minor": 0
}